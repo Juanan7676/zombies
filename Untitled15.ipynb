{
 "cells": [
  {
   "cell_type": "code",
   "execution_count": 10,
   "metadata": {},
   "outputs": [],
   "source": [
    "s0=9000\n",
    "z0=0\n",
    "r0=0\n",
    "natalidad = 0.005\n",
    "capacidad = 10000\n",
    "infeccion = 0.0055\n",
    "muerte_nat_humanos = 0.0001\n",
    "muerte_nat_zombies = 0.05\n",
    "resurreccion = 0.009\n",
    "muerte_zombies_porhumanos = 0.0075\n",
    "tiempo=500"
   ]
  },
  {
   "cell_type": "code",
   "execution_count": 11,
   "metadata": {},
   "outputs": [],
   "source": [
    "def s(s,z,r):\n",
    "    return natalidad*(s)*(1-(s+z+r)/capacidad)-infeccion*s*z-muerte_nat_humanos*s\n",
    "\n",
    "def z(s,z,r):\n",
    "    return infeccion*s*z+resurreccion*r-muerte_zombies_porhumanos*s*z-muerte_nat_zombies*z\n",
    "\n",
    "def r(s,z,r):\n",
    "    return muerte_nat_humanos*s+muerte_zombies_porhumanos*s*z-resurreccion*r+muerte_nat_zombies*z"
   ]
  },
  {
   "cell_type": "markdown",
   "metadata": {},
   "source": [
    "# MÉTODO DE EULER"
   ]
  },
  {
   "cell_type": "code",
   "execution_count": 12,
   "metadata": {},
   "outputs": [],
   "source": [
    "def eulerS(s,z,r,s0,z0,r0,tmax):\n",
    "    s_sol = [s0]\n",
    "    z_sol=[z0]\n",
    "    r_sol=[r0]\n",
    "    k=0\n",
    "    h=1\n",
    "    while k<=tmax:\n",
    "        s1 = s_sol[k] + h*s(s_sol[k],z_sol[k],r_sol[k])\n",
    "        s_sol.append(s1)\n",
    "        \n",
    "        z1 = z_sol[k] + h*z(s_sol[k],z_sol[k],r_sol[k])\n",
    "        z_sol.append(z1)\n",
    "        \n",
    "        r1 = r_sol[k] + h*r(s_sol[k],z_sol[k], r_sol[k])\n",
    "        r_sol.append(r1)\n",
    "        \n",
    "        k+=1\n",
    "    return [s_sol,z_sol,r_sol]"
   ]
  },
  {
   "cell_type": "code",
   "execution_count": 13,
   "metadata": {},
   "outputs": [],
   "source": [
    "humanos = eulerS(s,z,r,s0,z0,r0,tiempo)[0]\n",
    "zombies = eulerS(s,z,r,s0,z0,r0,tiempo)[1]\n",
    "muertos = eulerS(s,z,r,s0,z0,r0,tiempo)[2]"
   ]
  },
  {
   "cell_type": "code",
   "execution_count": 14,
   "metadata": {},
   "outputs": [
    {
     "name": "stdout",
     "output_type": "stream",
     "text": [
      "Populating the interactive namespace from numpy and matplotlib\n"
     ]
    },
    {
     "data": {
      "text/plain": [
       "[<matplotlib.lines.Line2D at 0x7f771d299c88>]"
      ]
     },
     "execution_count": 14,
     "metadata": {},
     "output_type": "execute_result"
    },
    {
     "data": {
      "image/png": "[encoded data removed]",
      "text/plain": [
       "<Figure size 432x288 with 1 Axes>"
      ]
     },
     "metadata": {},
     "output_type": "display_data"
    }
   ],
   "source": [
    "%pylab inline\n",
    "dias = linspace(0,tiempo+2,tiempo+2)\n",
    "plot(dias, humanos, c='b')\n",
    "plot(dias, zombies, c='r')\n",
    "plot(dias, muertos, color=\"black\")"
   ]
  },
  {
   "cell_type": "markdown",
   "metadata": {},
   "source": [
    "# MÉTODO DE RUNGE-KUTTA"
   ]
  },
  {
   "cell_type": "code",
   "execution_count": 15,
   "metadata": {},
   "outputs": [],
   "source": [
    "def runge_kutta(s,z,r,s0,z0,r0,tfinal):\n",
    "    s_sol = [s0]\n",
    "    z_sol = [z0]\n",
    "    r_sol = [r0]\n",
    "    k = 0\n",
    "    h=0.1\n",
    "    while k*h <= tfinal:\n",
    "        k1 = h*s(s_sol[k],z_sol[k],r_sol[k])\n",
    "        l1 = h*z(s_sol[k],z_sol[k],r_sol[k])\n",
    "        m1 = h*r(s_sol[k],z_sol[k],r_sol[k])\n",
    "        \n",
    "        k2 = h*s(s_sol[k]+k1/2, z_sol[k]+l1/2,r_sol[k]+m1/2)\n",
    "        l2 = h*z(s_sol[k]+k1/2, z_sol[k]+l1/2, r_sol[k]+m1/2)\n",
    "        m2 = h*r(s_sol[k]+k1/2, z_sol[k]+l1/2, r_sol[k]+m1/2)\n",
    "        \n",
    "        k3 = h*s(s_sol[k]+k2/2, z_sol[k]+l2/2,r_sol[k]+m2/2)\n",
    "        l3 = h*z(s_sol[k]+k2/2, z_sol[k]+l2/2, r_sol[k]+m2/2)\n",
    "        m3 = h*r(s_sol[k]+k2/2, z_sol[k]+l2/2, r_sol[k]+m2/2)\n",
    "        \n",
    "        \n",
    "        k4 = h*s(s_sol[k]+k3, z_sol[k]+l3, r_sol[k]+m3)\n",
    "        l4 = h*z(s_sol[k]+k3, z_sol[k]+l3, r_sol[k]+m3)\n",
    "        m4 = h*r(s_sol[k]+k3, z_sol[k]+l3, r_sol[k]+m3)\n",
    "        \n",
    "        s_sol.append(s_sol[k]+(k1+2*k2+2*k3+k4)/6)        \n",
    "        z_sol.append(z_sol[k]+(l1+2*l2+2*l3+l4)/6)\n",
    "        r_sol.append(r_sol[k]+(m1+2*m2+2*m3+m4)/6)\n",
    "        \n",
    "        k+=1\n",
    "        \n",
    "    return s_sol,z_sol,r_sol\n",
    "        \n",
    "        "
   ]
  },
  {
   "cell_type": "code",
   "execution_count": 16,
   "metadata": {},
   "outputs": [],
   "source": [
    "humanos2 = runge_kutta(s,z,r,s0,z0,r0,tiempo)[0]\n",
    "zombies2 = runge_kutta(s,z,r,s0,z0,r0,tiempo)[1]\n",
    "muertos2 = runge_kutta(s,z,r,s0,z0,r0,tiempo)[2]"
   ]
  },
  {
   "cell_type": "code",
   "execution_count": 17,
   "metadata": {},
   "outputs": [
    {
     "data": {
      "text/plain": [
       "[<matplotlib.lines.Line2D at 0x7f771d206ac8>]"
      ]
     },
     "execution_count": 17,
     "metadata": {},
     "output_type": "execute_result"
    },
    {
     "data": {
      "image/png": "[encoded data removed]",
      "text/plain": [
       "<Figure size 432x288 with 1 Axes>"
      ]
     },
     "metadata": {},
     "output_type": "display_data"
    }
   ],
   "source": [
    "dias = linspace(0,10*tiempo+2,10*tiempo+2)\n",
    "plot(dias, humanos2, c='b')\n",
    "plot(dias, zombies2, c='r')\n",
    "plot(dias, muertos2, color=\"black\")"
   ]
  },
  {
   "cell_type": "code",
   "execution_count": 9,
   "metadata": {},
   "outputs": [
    {
     "name": "stdout",
     "output_type": "stream",
     "text": [
      "53.3 ms ± 1.74 ms per loop (mean ± std. dev. of 7 runs, 10 loops each)\n"
     ]
    }
   ],
   "source": [
    "%timeit runge_kutta(s,z,r,s0,z0,r0,tiempo)"
   ]
  }
 ],
 "metadata": {
  "kernelspec": {
   "display_name": "Python 3",
   "language": "python",
   "name": "python3"
  },
  "language_info": {
   "codemirror_mode": {
    "name": "ipython",
    "version": 3
   },
   "file_extension": ".py",
   "mimetype": "text/x-python",
   "name": "python",
   "nbconvert_exporter": "python",
   "pygments_lexer": "ipython3",
   "version": "3.5.2"
  }
 },
 "nbformat": 4,
 "nbformat_minor": 2
}
